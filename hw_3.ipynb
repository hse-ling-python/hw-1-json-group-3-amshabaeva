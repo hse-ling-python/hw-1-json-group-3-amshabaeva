{
 "cells": [
  {
   "cell_type": "markdown",
   "metadata": {},
   "source": [
    "# Домашнее задание №1 \n",
    "\n",
    "### (Шабаева Настя БКЛ183)\n",
    "\n",
    "## Установка PEP-8 "
   ]
  },
  {
   "cell_type": "code",
   "execution_count": 1,
   "metadata": {},
   "outputs": [
    {
     "name": "stdout",
     "output_type": "stream",
     "text": [
      "Requirement already satisfied: pycodestyle in /Library/Frameworks/Python.framework/Versions/3.7/lib/python3.7/site-packages (2.5.0)\r\n",
      "Requirement already satisfied: flake8 in /Library/Frameworks/Python.framework/Versions/3.7/lib/python3.7/site-packages (3.7.8)\r\n",
      "Requirement already satisfied: pycodestyle_magic in /Library/Frameworks/Python.framework/Versions/3.7/lib/python3.7/site-packages (0.4)\r\n",
      "Requirement already satisfied: entrypoints<0.4.0,>=0.3.0 in /Library/Frameworks/Python.framework/Versions/3.7/lib/python3.7/site-packages (from flake8) (0.3)\r\n",
      "Requirement already satisfied: mccabe<0.7.0,>=0.6.0 in /Library/Frameworks/Python.framework/Versions/3.7/lib/python3.7/site-packages (from flake8) (0.6.1)\r\n",
      "Requirement already satisfied: pyflakes<2.2.0,>=2.1.0 in /Library/Frameworks/Python.framework/Versions/3.7/lib/python3.7/site-packages (from flake8) (2.1.1)\r\n"
     ]
    }
   ],
   "source": [
    "! pip3 install pycodestyle flake8 pycodestyle_magic"
   ]
  },
  {
   "cell_type": "markdown",
   "metadata": {},
   "source": [
    "## Чтение файла"
   ]
  },
  {
   "cell_type": "code",
   "execution_count": 2,
   "metadata": {},
   "outputs": [],
   "source": [
    "%load_ext pycodestyle_magic\n",
    "%pycodestyle_on\n",
    "\n",
    "import json\n",
    "\n",
    "full_text = []\n",
    "for line in open('hw_3_twitter.json', 'r', encoding='utf-8'):\n",
    "    full_text.append(json.loads(line))"
   ]
  },
  {
   "cell_type": "markdown",
   "metadata": {},
   "source": [
    "## Печатаем количество твитов (Вопрос 1)"
   ]
  },
  {
   "cell_type": "code",
   "execution_count": 3,
   "metadata": {},
   "outputs": [
    {
     "name": "stdout",
     "output_type": "stream",
     "text": [
      "2556\n"
     ]
    }
   ],
   "source": [
    "twits_number = len(full_text)\n",
    "print(twits_number)"
   ]
  },
  {
   "cell_type": "markdown",
   "metadata": {},
   "source": [
    "## Ищем количество удаленных твитов (Вопрос 2)\n",
    "\n",
    "Читаем файл построчно. Если находим в строке ключ 'delete', добавляем к счётчику 1."
   ]
  },
  {
   "cell_type": "code",
   "execution_count": 4,
   "metadata": {},
   "outputs": [],
   "source": [
    "count = 0\n",
    "for i in full_text:\n",
    "    for key in i:\n",
    "        if key == 'delete':\n",
    "            count += 1"
   ]
  },
  {
   "cell_type": "markdown",
   "metadata": {},
   "source": [
    "### Ответ (Процент удаленных твитов): "
   ]
  },
  {
   "cell_type": "code",
   "execution_count": 5,
   "metadata": {},
   "outputs": [
    {
     "name": "stdout",
     "output_type": "stream",
     "text": [
      "14.162754303599373 %\n"
     ]
    }
   ],
   "source": [
    "print(count/twits_number*100, '%')"
   ]
  },
  {
   "cell_type": "markdown",
   "metadata": {},
   "source": [
    "## Поиск самых популярных языков твитов, первые 20. (Вопрос 3)\n",
    "\n",
    "Создаём список, в котором будут храниться все языки.\n",
    "Читаем файл построчно. В каждой строке находим ключ 'lang', добавляем его значение в список languages.\n",
    "Создаем Counter и печатаем первые 20 элементов."
   ]
  },
  {
   "cell_type": "code",
   "execution_count": 26,
   "metadata": {},
   "outputs": [],
   "source": [
    "languages = []\n",
    "for line in full_text:\n",
    "    for key in line:\n",
    "        if key == 'lang':\n",
    "            languages.append(line[key])"
   ]
  },
  {
   "cell_type": "markdown",
   "metadata": {},
   "source": [
    "### Ответ (Первые 20 самых часто используемых языков с количеством твитов, в которых они использовались):"
   ]
  },
  {
   "cell_type": "code",
   "execution_count": 27,
   "metadata": {},
   "outputs": [
    {
     "name": "stdout",
     "output_type": "stream",
     "text": [
      "('en', 719)\n",
      "('ja', 438)\n",
      "('es', 173)\n",
      "('ko', 149)\n",
      "('th', 123)\n",
      "('ar', 119)\n",
      "('und', 117)\n",
      "('in', 71)\n",
      "('pt', 69)\n",
      "('fr', 35)\n",
      "('tr', 30)\n",
      "('tl', 29)\n",
      "('hi', 23)\n",
      "('ru', 15)\n",
      "('fa', 8)\n",
      "('zh', 8)\n",
      "('ca', 7)\n",
      "('ur', 6)\n",
      "('nl', 6)\n",
      "('de', 6)\n"
     ]
    }
   ],
   "source": [
    "for i in Counter(languages).most_common(20):\n",
    "    print(i)"
   ]
  },
  {
   "cell_type": "markdown",
   "metadata": {},
   "source": [
    "## Количество пользователей, у которых больше 1 твита. (Вопрос 4)\n",
    "\n",
    "Создаём список, в котором будут храниться все пользователи (users).\n",
    "\n",
    "Читаем файл построчно. В каждой строке находим ключ 'user'. \n",
    "\n",
    "В словаре user ищем ключ 'id', добавляем его значение в список users. \n",
    "\n",
    "Создаем Counter из этого списка и новый список, в который будем помещать пользователей, авторов нескольких твитов (users_rep).\n",
    "\n",
    "Проходим по counter и добавляем в новый список те ключи, значения которых не равны 1. \n",
    "\n",
    "В ответе печатаем длину списка users_rep."
   ]
  },
  {
   "cell_type": "code",
   "execution_count": 39,
   "metadata": {},
   "outputs": [],
   "source": [
    "users = []\n",
    "for line in full_text:\n",
    "    for key in line:\n",
    "        if key == 'user':\n",
    "            for j in line[key]:\n",
    "                if j == 'id':\n",
    "                    users.append(line[key][j])\n",
    "\n",
    "users_rep = []\n",
    "for key in Counter(users):\n",
    "    if Counter(users)[key] != 1:\n",
    "        users_rep.append(key)"
   ]
  },
  {
   "cell_type": "markdown",
   "metadata": {},
   "source": [
    "### Ответ (Количество пользователей, авторов нескольких твитов из данного файла):"
   ]
  },
  {
   "cell_type": "code",
   "execution_count": 40,
   "metadata": {},
   "outputs": [
    {
     "name": "stdout",
     "output_type": "stream",
     "text": [
      "25\n"
     ]
    }
   ],
   "source": [
    "print(len(users_rep))"
   ]
  },
  {
   "cell_type": "markdown",
   "metadata": {},
   "source": [
    "## ТОП-20 хэштегов. (Вопрос 5)\n",
    "\n",
    "Создаём список, в котором будут храниться все хэштеги (hashtagss).\n",
    "\n",
    "Читаем файл построчно. В каждой строке находим ключ 'entities'.\n",
    "\n",
    "В поле entities ищем ключ 'hashtags', проходим по всем элементам списка, лежащего в значении hashtags.\n",
    "\n",
    "В каждом из словарей (элементы того самого списка) находим ключ 'text' и его значение добавляем в список hashtags, созданный в начале.\n",
    "\n",
    "Создаем Counter из этого списка и печатаем первые 20 элементов. "
   ]
  },
  {
   "cell_type": "code",
   "execution_count": 41,
   "metadata": {},
   "outputs": [],
   "source": [
    "hashtagss = []\n",
    "for line in full_text:\n",
    "    for key in line:\n",
    "        if key == 'entities':\n",
    "            for j in line[key]:\n",
    "                if j == 'hashtags':\n",
    "                    for tag in line[key][j]:\n",
    "                        for a in tag:\n",
    "                            if a == 'text':\n",
    "                                hashtagss.append(tag[a])"
   ]
  },
  {
   "cell_type": "markdown",
   "metadata": {},
   "source": [
    "### Ответ (ТОП-20 хэштегов и сколько раз каждый из них был использован):"
   ]
  },
  {
   "cell_type": "code",
   "execution_count": 42,
   "metadata": {},
   "outputs": [
    {
     "name": "stdout",
     "output_type": "stream",
     "text": [
      "('BTS', 17)\n",
      "('방탄소년단', 13)\n",
      "('AMAs', 11)\n",
      "('人気投票ガチャ', 8)\n",
      "('태형', 7)\n",
      "('뷔', 6)\n",
      "('BTSinChicago', 5)\n",
      "('BTSLoveYourselfTour', 5)\n",
      "('오늘의방탄', 5)\n",
      "('PledgeForSwachhBharat', 5)\n",
      "('MPN', 5)\n",
      "('PCAs', 4)\n",
      "('V', 4)\n",
      "('시카고1회차공연', 4)\n",
      "('เป๊กผลิตโชค', 4)\n",
      "('JIMIN', 4)\n",
      "('running', 3)\n",
      "('NCT', 3)\n",
      "('지민', 3)\n",
      "('WajahmuPlastik', 3)\n"
     ]
    }
   ],
   "source": [
    "for i in Counter(hashtagss).most_common(20):\n",
    "    print(i)"
   ]
  },
  {
   "cell_type": "markdown",
   "metadata": {},
   "source": [
    "## Частотный словарь из оригинальных твитов на английском языке, первые 50 элементов. (Вопрос 6)\n",
    "\n",
    "Создаём список, в котором будут храниться все тексты подходящих твитов (texts).\n",
    "\n",
    "Читаем файл построчно. В каждой строке проверяем отсутствие ключей 'retweeted_status' и 'quoted_status'. Затем проверяем, чтобы зачение ключа 'lang' было 'en'. Во всех строках, где условия выполняются, добавляем значение ключа 'text' в ранее созданный список.\n",
    "\n",
    "Делим каждый элемент списка texts на слова с помощью split(). Добавляем каждое слово в новый список words.\n",
    "\n",
    "Проходим по списку words, удаляем из каждого его элемента ненужные символы с помощью strip(). Добавляем все \"очищенные слова\" в новый список clear_words.\n",
    "\n",
    "Избавляемся от пустых элементов, попавших в clear_words: добавляем все непустые элементы в новый список new_clear_words, приводя их при этом к нижнему регистру с помощью low().\n",
    "\n",
    "\n",
    "Создаем Counter из списка new_clear_words и печатаем первые 50 элементов."
   ]
  },
  {
   "cell_type": "code",
   "execution_count": 43,
   "metadata": {},
   "outputs": [],
   "source": [
    "texts = []\n",
    "\n",
    "for line in full_text:\n",
    "    if (('retweeted_status'or 'quoted_status') not in line.keys()):\n",
    "        if (line.get('lang') == 'en'):\n",
    "            texts.append(line.get('text'))\n",
    "\n",
    "words = []\n",
    "for text in texts:\n",
    "    words.extend(text.split())\n",
    "\n",
    "clear_words = []\n",
    "trash_symbols = '!\"#$%&\\'-()*+,./:;<=>?@[\\\\]^_`{|}~«»—…1234567890'\n",
    "for word in words:\n",
    "    clear_words.append(word.strip(trash_symbols))\n",
    "\n",
    "new_clear_words = []\n",
    "for word in clear_words:\n",
    "    if word != '':\n",
    "        new_clear_words.append(word.lower())"
   ]
  },
  {
   "cell_type": "markdown",
   "metadata": {},
   "source": [
    "### Ответ (Частотный словарь. Первые 50 элементов):"
   ]
  },
  {
   "cell_type": "code",
   "execution_count": 44,
   "metadata": {},
   "outputs": [
    {
     "name": "stdout",
     "output_type": "stream",
     "text": [
      "('the', 126)\n",
      "('to', 86)\n",
      "('a', 78)\n",
      "('i', 73)\n",
      "('and', 65)\n",
      "('is', 51)\n",
      "('you', 48)\n",
      "('of', 46)\n",
      "('for', 42)\n",
      "('it', 42)\n",
      "('in', 38)\n",
      "('that', 33)\n",
      "('this', 32)\n",
      "('my', 30)\n",
      "('me', 27)\n",
      "('be', 26)\n",
      "('on', 26)\n",
      "('are', 21)\n",
      "('what', 20)\n",
      "('so', 20)\n",
      "('with', 20)\n",
      "('have', 19)\n",
      "('your', 17)\n",
      "('not', 17)\n",
      "('more', 17)\n",
      "('but', 17)\n",
      "('at', 17)\n",
      "('get', 16)\n",
      "('about', 14)\n",
      "('like', 14)\n",
      "('just', 14)\n",
      "('we', 12)\n",
      "('all', 12)\n",
      "('now', 12)\n",
      "('was', 12)\n",
      "('he', 12)\n",
      "('up', 11)\n",
      "('they', 11)\n",
      "('if', 11)\n",
      "('only', 11)\n",
      "('one', 11)\n",
      "('an', 10)\n",
      "('hit', 10)\n",
      "('time', 9)\n",
      "('or', 9)\n",
      "('out', 9)\n",
      "('today', 9)\n",
      "('from', 9)\n",
      "('i’m', 9)\n",
      "('as', 9)\n"
     ]
    }
   ],
   "source": [
    "for i in Counter(new_clear_words).most_common(50):\n",
    "    print(i)"
   ]
  },
  {
   "cell_type": "markdown",
   "metadata": {},
   "source": [
    "## ТОП-10 самых популярных пользователей. (Вопрос 7)\n",
    "\n",
    "Создаём пустой словарь. \n",
    "\n",
    "Читаем текст построчно. Если твит не удаленный, кладем значение из количества подписчиков у пользователя в ключ, а id в значение словаря.\n",
    "\n",
    "Сортируем словарь по ключам, по убыванию. Выводим первые 10 элементов словаря после сортировки."
   ]
  },
  {
   "cell_type": "code",
   "execution_count": 61,
   "metadata": {},
   "outputs": [],
   "source": [
    "dict_1 = {}\n",
    "for line in full_text:\n",
    "    if 'delete' not in line.keys():\n",
    "        user = line.get('user')\n",
    "        dict_1[user.get('followers_count')] = user.get('id')\n",
    "\n",
    "list_keys = list(dict_1.keys())\n",
    "list_keys.sort(reverse=True)"
   ]
  },
  {
   "cell_type": "markdown",
   "metadata": {},
   "source": [
    "### Ответ (10 самых популярных пользователей. Их id и количество подписчиков):"
   ]
  },
  {
   "cell_type": "code",
   "execution_count": 59,
   "metadata": {},
   "outputs": [
    {
     "name": "stdout",
     "output_type": "stream",
     "text": [
      "262389559 : 2521403\n",
      "14562016 : 1491309\n",
      "18040230 : 1206759\n",
      "1435461 : 1137374\n",
      "290401936 : 625463\n",
      "234419133 : 392472\n",
      "20689749 : 383698\n",
      "223282435 : 374222\n",
      "634594307 : 318189\n",
      "399622781 : 311319\n"
     ]
    }
   ],
   "source": [
    "for i in list_keys[0:10]:\n",
    "    print(dict_1[i], ':', i)"
   ]
  }
 ],
 "metadata": {
  "kernelspec": {
   "display_name": "Python 3",
   "language": "python",
   "name": "python3"
  },
  "language_info": {
   "codemirror_mode": {
    "name": "ipython",
    "version": 3
   },
   "file_extension": ".py",
   "mimetype": "text/x-python",
   "name": "python",
   "nbconvert_exporter": "python",
   "pygments_lexer": "ipython3",
   "version": "3.7.0"
  }
 },
 "nbformat": 4,
 "nbformat_minor": 2
}
